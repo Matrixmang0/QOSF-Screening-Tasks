{
 "cells": [
  {
   "cell_type": "markdown",
   "id": "8c29e66d-6afb-438a-834e-5b4e774d909f",
   "metadata": {},
   "source": [
    "## Introduction\n",
    "\n",
    "In this notebook, let us learn to code a quantum algorithm to find the largest of two given integers. Be it positive or negative integer, this algorithm will do fine. \n",
    "\n",
    "Let us see the basic overview of the algorithm we've used in the next section. In those appropriate sections, we can dig deep into the concepts and the methods used!\n"
   ]
  },
  {
   "cell_type": "markdown",
   "id": "5ec1b5c7-12b2-4968-ba6b-91aae4d082a8",
   "metadata": {},
   "source": [
    "## Algo Overview\n",
    "\n",
    "The boiler plate of this whole algorithm is simple **Binary Addition**. To perform this binary addition we are using **Quantum Fourier Transform (QFT)**, which can be installed as a package from **Qiskit**.\n",
    "\n",
    "## Principle Behind the Algorithm\n",
    "\n",
    "We will negate the first integer and add it with the second integer, if the resulting integer is negative, the first integer is the largest and if the resulting integer is positive, the second integer is the largest.\n",
    "\n",
    "## Steps\n",
    "\n",
    "1. Get the input integers as parameters to the function ***find_the_largest_number (int:number_1, int ,number_2)***\n",
    "\n",
    "2. Multiply the first integer to ***'-1'*** to make it negative and use this in place of the first integer. Now, convert both these integers to its corresponding *binary* format. For negative integers, use **2's Complement** method to find its corresponding binary. \n",
    "\n",
    "3. Introduce two quantum registers to store the binaries of the two input integers and one classical register to store the output of binary addition.\n",
    "\n",
    "4. Now encode the inputs to the quantum registers. Consider there are n qubits in the resister, if the kth bit of the input is '1', then add an **X gate** to the (n-k)th qubit of the register.\n",
    "\n",
    "5. Now add a QFT block across all the qubits of the first input register. This will transform all the qubits from states $|0\\rangle$ and $|1\\rangle$ to $|{+}\\rangle$ state.\n",
    "\n",
    "6. Next, perform controlled rotations on the qubits of the first register, by adding a **CPhase gate** across the qubits of first reg and second reg, in such a way that nth bit of the first reg is connected to first n qubits of the second reg.\n",
    "\n",
    "7. Now apply **Inverse Quantum Fourier Transform (IQFT)** across all the qubits of the first register. This will bring back all the qubits to the required $|0\\rangle$ and $|1\\rangle$ states.\n",
    "\n",
    "8. Thus, the first quantum register will now contain the result of binary addition of the two registers. We can now measure this register to the classical register. Now, the classical register contains the solution we needed. \n",
    "\n",
    "9. The corresponding solution will also be in Two's complement format. So, the negative integer will contain a leading **'1'** in their binary and for positive integer, the vice versa. \n",
    "\n",
    "10. So, if the classical register contain a leading **'1'**, the integer in the first argument is the largest and if the classical register contain a leading **'0'**, the integer in the second argument is the largest.\n",
    "\n",
    "## With all these basic ideas in mind, let us jump hands on into the code !!\n"
   ]
  },
  {
   "cell_type": "markdown",
   "id": "664dbef6-f7a5-48a2-9388-0f23f57359bd",
   "metadata": {},
   "source": [
    "## Importing packages\n",
    "\n",
    "For this project, we are using ***Qiskit***. Qiskit is an open-source Software Development Kit from IBM, which allows us to work on quantum computers or even simulate the quantum computers to test our algos and applications that run on quantum computers. For more info, [here][1] is the link for documentation.\n",
    "\n",
    "We are also using the ***Numpy*** package, the most used library in python, used for array manipulations and complex mathematical calculations involving expressions and constants. For more info, [here][2] is the link for documentation.\n",
    "\n",
    "Below are the packages, we are importing from **Qiskit**\n",
    "\n",
    "- **[QuantumCircuit][3] :** This package allows us to build the quantum circuit, along with the quantum gates involved.\n",
    "\n",
    "- **[Aer][4] :** This package is the simulator for quantum computer, we will use 'qasm_simulator' backend from the Aer package to run and test our circuits.\n",
    "\n",
    "- **[execute][5] :** This package will help us assemble the circuit which we have have created using **QuantumCircuit** onto the quantum simulator.\n",
    "\n",
    "- **[QuantumRegister][6] :** This package will ease us working on a collection of qubits considering them as a register.\n",
    "\n",
    "- **[ClassicalRegister][7] :** This package will ease us working on a collection of classical bits considering them as a register.\n",
    "\n",
    "- **[QFT][8] :** This is a module from *qiskit.circuit.library*, which allows us to perform quantum fourier and inverse fourier transform on quantum registers or on specific qubits.\n",
    "\n",
    "[1]: <https://qiskit.org/> \"Qiskit doc\"\n",
    "[2]: <https://numpy.org/doc/stable/user/index.html#user> \"Numpy doc\"\n",
    "[3]: <https://qiskit.org/documentation/stubs/qiskit.circuit.QuantumCircuit.html> \"QuantumCircuit doc\"\n",
    "[4]: <https://qiskit.org/documentation/stubs/qiskit_aer.AerSimulator.html> \"AerSimulator doc\"\n",
    "[5]: <https://qiskit.org/documentation/stable/0.24/_modules/qiskit/execute.html> \"execute doc\"\n",
    "[6]: <https://qiskit.org/documentation/stubs/qiskit.circuit.QuantumRegister.html> \"QuantumRegister doc\"\n",
    "[7]: <https://qiskit.org/documentation/stubs/qiskit.circuit.ClassicalRegister.html> \"ClassicalRegister doc\"\n",
    "[8]: <https://qiskit.org/documentation/stable/0.24/stubs/qiskit.circuit.library.QFT.html> \"QFT doc\""
   ]
  },
  {
   "cell_type": "code",
   "execution_count": 1,
   "id": "039fd1b3-556b-4b3f-8dbd-fbf09c2565e6",
   "metadata": {},
   "outputs": [],
   "source": [
    "import numpy as np\n",
    "import qiskit\n",
    "from qiskit import QuantumCircuit, Aer, execute, QuantumRegister, ClassicalRegister\n",
    "from qiskit.circuit.library import QFT"
   ]
  },
  {
   "cell_type": "code",
   "execution_count": 2,
   "id": "546c4ec9-3350-42c0-b152-ab588ce208b7",
   "metadata": {},
   "outputs": [
    {
     "data": {
      "text/plain": [
       "'0.22.2'"
      ]
     },
     "execution_count": 2,
     "metadata": {},
     "output_type": "execute_result"
    }
   ],
   "source": [
    "# Let us check the installed version of the Qiskit\n",
    "\n",
    "qiskit.__version__"
   ]
  },
  {
   "cell_type": "markdown",
   "id": "6abafe30-c40f-466a-824b-0660e81781b3",
   "metadata": {},
   "source": [
    "## Binary Conversion\n",
    "\n",
    "Considering the positive integers the binary representation is quite straightforward. But, for negative integers there are actually three methods to represent as binary - *Signed magnitude*, *1's complement* and *2's complement*. You can learn more about these representations from [here][1].\n",
    "\n",
    "From these, the widely accepted method is **2's complement method**. \n",
    "\n",
    "The two's complement of any negative number, (For eg: -5) can be calculated as follows :\n",
    "\n",
    "- Consider the absolute value of the number (5)\n",
    "- Subtract it by 1 (5-1=4)\n",
    "- Find the binary of that subtracted number (0100)\n",
    "- Take complement of that binary (1011)\n",
    "- This is the two's complement binary representation of the number (-5)\n",
    "\n",
    "This is the method which is used for binary representation in modern processors. There are many reasons for adopting this method. One main reason is that, after conversion, we can use direct binary addition to compute the sum of two integers, even for negative integers. For instance consider addition of two integers\n",
    "\n",
    "```\n",
    "-5+4=-1\n",
    "```\n",
    "\n",
    "Their corresponding binary is \n",
    "\n",
    "```\n",
    " 1011\n",
    "+0100\n",
    "=?\n",
    "```\n",
    "Applying binary addition, we get\n",
    "\n",
    "```\n",
    " 1011\n",
    "+0100\n",
    "=1111\n",
    "```\n",
    "\n",
    "'1111' is the two's complement representation of -1\n",
    "\n",
    "For more inclined minds. [Here][2] is the PDF, which I referred to for this tutorial.\n",
    "\n",
    "### Let us now implemant a function to do this\n",
    "\n",
    "[1]: <https://www.geeksforgeeks.org/representation-of-negative-binary-numbers/> \"Binary Representation\"\n",
    "[2]: <https://www.cs.ou.edu/~fagg/classes/ame3623_s10/lecture/class_arithmetic.pdf> \"Binary Addition PDF\"\n",
    "\n"
   ]
  },
  {
   "cell_type": "code",
   "execution_count": 3,
   "id": "e587df56-f8eb-436e-b9d7-e0d6fe582ed1",
   "metadata": {},
   "outputs": [],
   "source": [
    "def twos_complement(number, num_bits):\n",
    "    \n",
    "    '''\n",
    "    This function returns the two's complement binary string representation of the first input argument.\n",
    "    For positive integers, it would return the direct binary representation\n",
    "    \n",
    "    args :\n",
    "    \n",
    "    number(int) -> This is the input integer for which the binary representation has to be found\n",
    "    \n",
    "    num_bits(int) -> Number of bits the return binary should be in\n",
    "    \n",
    "    return:\n",
    "    \n",
    "    binary(string) -> Binary equivalent of the input number of length num_bits\n",
    "    '''\n",
    "    \n",
    "    if number >= 0: # Checks if the number is positive\n",
    "        binary = format(number, f'0{num_bits}b')\n",
    "    else: \n",
    "        # Compute the absolute value of number and subtract it from 2^bits\n",
    "        abs_num = abs(number)\n",
    "        complement = (1 << num_bits) - abs_num\n",
    "        binary = format(complement, f'0{num_bits}b')\n",
    "\n",
    "    return binary"
   ]
  },
  {
   "cell_type": "code",
   "execution_count": 4,
   "id": "7fe4baec-1810-49ea-88b3-9339ada907f5",
   "metadata": {},
   "outputs": [
    {
     "name": "stdout",
     "output_type": "stream",
     "text": [
      "1011\n",
      "10110100\n"
     ]
    }
   ],
   "source": [
    "# Let us check our function\n",
    "\n",
    "print(twos_complement(-5,4))\n",
    "print(twos_complement(-76,8))"
   ]
  },
  {
   "cell_type": "markdown",
   "id": "bbd6988a-481e-40db-bfe7-bcbbf862375e",
   "metadata": {},
   "source": [
    "## Binary Conversion of input integers"
   ]
  },
  {
   "cell_type": "code",
   "execution_count": 5,
   "id": "d84bd1e8-17a3-45d7-9cb8-0799c25876bb",
   "metadata": {},
   "outputs": [],
   "source": [
    "# Let us declare two integers, for which we will be finding the largest in the upcoming cells\n",
    "\n",
    "int_1 = 2\n",
    "int_2 = -3"
   ]
  },
  {
   "cell_type": "code",
   "execution_count": 6,
   "id": "3f0e6467-53c2-4568-b17e-6a77f7ae48d2",
   "metadata": {},
   "outputs": [],
   "source": [
    "# Determine the number of qubits needed based on the larger number\n",
    "\n",
    "n = max(len(bin(int_1)), len(bin(int_2))) # This will consider two extra bits for '0b' We will be needing those two bits, to check for +ve or -ve integers"
   ]
  },
  {
   "cell_type": "code",
   "execution_count": 7,
   "id": "2d90bb47-0748-4798-a59f-802e07c4c55f",
   "metadata": {},
   "outputs": [
    {
     "name": "stdout",
     "output_type": "stream",
     "text": [
      "00010\n",
      "11101\n"
     ]
    }
   ],
   "source": [
    "# Convert those two integers in their corresponding 2's complement format\n",
    "\n",
    "bin_int1 = twos_complement(int_1, n)\n",
    "bin_int2 = twos_complement(int_2, n)\n",
    "\n",
    "print(bin_int1)\n",
    "print(bin_int2)"
   ]
  },
  {
   "cell_type": "markdown",
   "id": "c7508c63-c5da-4b0f-9ee9-28cd5ac0402c",
   "metadata": {},
   "source": [
    "## Define Quantum circuits "
   ]
  },
  {
   "cell_type": "code",
   "execution_count": 8,
   "id": "bdd9eef6-1ba1-4e69-b6e6-541b64468483",
   "metadata": {},
   "outputs": [],
   "source": [
    "# Declaring two quantum registers containing qubits same as the number of bits in the input binary string\n",
    "# And one classical register which also contains bits same as the number of bits in the input binary string \n",
    "\n",
    "qReg_a = QuantumRegister(n, 'a')\n",
    "qReg_b = QuantumRegister(n, 'b')\n",
    "cReg = ClassicalRegister(n, 'c')"
   ]
  },
  {
   "cell_type": "code",
   "execution_count": 9,
   "id": "d830de3b-7695-4e00-aac5-0d2d4c295324",
   "metadata": {},
   "outputs": [
    {
     "data": {
      "image/png": "[encoded data removed]",
      "text/plain": [
       "<Figure size 116.843x686.28 with 1 Axes>"
      ]
     },
     "execution_count": 9,
     "metadata": {},
     "output_type": "execute_result"
    }
   ],
   "source": [
    "# Initializing the quantum circuit with the registers declared above\n",
    "qc = QuantumCircuit(qReg_a, qReg_b, cReg)\n",
    "\n",
    "# Dispaly the circuit created so far\n",
    "qc.draw()"
   ]
  },
  {
   "cell_type": "markdown",
   "id": "f489e66f-3fb7-4752-9473-07fbba439aca",
   "metadata": {},
   "source": [
    "## Encoding Inputs"
   ]
  },
  {
   "cell_type": "code",
   "execution_count": 10,
   "id": "c0831351-54f0-4c4e-ac6d-6422f4bc7d2e",
   "metadata": {},
   "outputs": [
    {
     "data": {
      "image/png": "[encoded data removed]",
      "text/plain": [
       "<Figure size 207.143x686.28 with 1 Axes>"
      ]
     },
     "execution_count": 10,
     "metadata": {},
     "output_type": "execute_result"
    }
   ],
   "source": [
    "qc.barrier()\n",
    "\n",
    "# Now let us encode the input bits into the corresponding register\n",
    "for index in range(n):\n",
    "        \n",
    "    rev_index = n - index - 1 # Iterating the index backwards\n",
    "    \n",
    "    # Place an X gate in the corresponding (n-index)th qubit if the corresponding nth bit is 1 \n",
    "    if (bin_int1[index]=='1'):\n",
    "        qc.x(qReg_a[rev_index])\n",
    "        \n",
    "    if (bin_int2[index]=='1'):\n",
    "        qc.x(qReg_b[rev_index])\n",
    "        \n",
    "        \n",
    "# Dispaly the circuit created so far\n",
    "qc.draw()"
   ]
  },
  {
   "cell_type": "markdown",
   "id": "2065ecfd-f361-4eba-82f2-17fc1713beae",
   "metadata": {
    "tags": []
   },
   "source": [
    "## Performing Quantum Fourier Transform"
   ]
  },
  {
   "cell_type": "code",
   "execution_count": 11,
   "id": "9932757f-6fd4-4f72-93e1-5c0829df1f38",
   "metadata": {},
   "outputs": [],
   "source": [
    "def controlled_rotations(qc, qra, qrb, k) :\n",
    "    '''\n",
    "    This function performs controlled rotations by connecting kth qubit of the first quantum register \n",
    "    to the first k qubits of the second register, by means of a controlled-phase gate, which will change the base phase\n",
    "    to multiples of pi/2 based on the iteration\n",
    "    \n",
    "    args :\n",
    "    \n",
    "        qc -> QuantumCircuit object\n",
    "        qra -> QuantumRegister Object\n",
    "        qrb -> QuantumRegister Object\n",
    "        k  -> int\n",
    "    \n",
    "    return :\n",
    "    \n",
    "        None\n",
    "    '''\n",
    "    for i in range(0, k+1):\n",
    "        # change the base phase by ith multiple of pi/2 if the control qubit from regB is 1\n",
    "        qc.cp(np.pi/2**i, qrb[k-i], qra[k]) \n"
   ]
  },
  {
   "cell_type": "markdown",
   "id": "32a53615-b943-4fb9-b490-799e5ea77d0f",
   "metadata": {},
   "source": [
    "## Note on QFT\n",
    "\n",
    "In general, the use case of Fourier and Inverse Fourier Transform is enmasse. It is used in various fields like signal processing, image processing, biotechnology, etc. In quantum computing, we use QFT, to transform the state of the qubits from $|0\\rangle$ and $|1\\rangle$ states to $|{+}\\rangle$ state.\n",
    "\n",
    "In this state, the vector lies along the X-Y plane, where we can rotate as we like in the X-Y plane, using the **Controlled-Phase gate**. In this particular case for binary addition, as the control bit encounters one, it will shift the phase vector in the multiples of 90 degrees.\n",
    "\n",
    "After this step, we use Inverse QFT to bring back the qubits from $|{+}\\rangle$ state to $|0\\rangle$ and $|1\\rangle$ states, which gives us the solution for binary addition.\n",
    "\n",
    "\n",
    "### Below is an illustration of qubits before applying Fourier Transform\n",
    "\n",
    "\n",
    "![zbasiscounting](images/zbasis-counting.gif)\n",
    "\n",
    "\n",
    "### After applying Fourier Transform\n",
    "\n",
    "\n",
    "![fbasiscounting](images/fourierbasis-counting.gif)\n",
    "\n",
    "[Image References][3]\n",
    "\n",
    "For mathematically inclined dudes, [here][1] is the tutorial on ***Binary Addition using QFT***, which I used as a reference.\n",
    "\n",
    "For people who need a strong understanding on the general **Fourier Transform**, I recommend you to watch this [tutorial][2]. I even would recommed this tutorial to everyone, as its the best tutorial on FT, I've ever seen.\n",
    "\n",
    "[1]: <https://arxiv.org/pdf/quant-ph/0008033.pdf> \"Binary addition using QFT\"\n",
    "[2]: <https://youtu.be/spUNpyF58BY> \"Fourier Transform Tutorial\"\n",
    "[3]: <https://qiskit.org/textbook/ch-algorithms/quantum-fourier-transform.html> \"Qubit Image References\""
   ]
  },
  {
   "cell_type": "code",
   "execution_count": 12,
   "id": "75f99558-c531-47f6-9fab-81e97fbc89d1",
   "metadata": {},
   "outputs": [
    {
     "data": {
      "image/png": "[encoded data removed]",
      "text/plain": [
       "<Figure size 1591.74x1408.68 with 1 Axes>"
      ]
     },
     "execution_count": 12,
     "metadata": {},
     "output_type": "execute_result"
    }
   ],
   "source": [
    "# Adding a QFT block across all the qubits of the first quantum register\n",
    "qc.append(QFT(n, do_swaps=False), [i for i in range(n)])\n",
    "    \n",
    "for i in range(n):\n",
    "    # This function will add C-Phase gate on all of the qubits of qReg_a    \n",
    "    controlled_rotations(qc, qReg_a, qReg_b, n-i-1 )\n",
    "\n",
    "# Adding an inverse QFT block across all the qubits of the first quantum register        \n",
    "qc.append(QFT(n, do_swaps=False).inverse(), [i for i in range(n)])\n",
    "\n",
    "# Adding a graphical barrier to show the end of circuit manipulation\n",
    "qc.barrier()\n",
    "\n",
    "# Display the circuit created so far\n",
    "qc.draw()"
   ]
  },
  {
   "cell_type": "markdown",
   "id": "389eb0ac-1af4-4535-b53d-94dfcdf1679a",
   "metadata": {},
   "source": [
    "## Measuring the qubits"
   ]
  },
  {
   "cell_type": "code",
   "execution_count": 13,
   "id": "cea618f1-a1c8-4dde-936b-ce61da9ad8ff",
   "metadata": {},
   "outputs": [
    {
     "data": {
      "image/png": "[encoded data removed]",
      "text/plain": [
       "<Figure size 1591.74x1408.68 with 1 Axes>"
      ]
     },
     "execution_count": 13,
     "metadata": {},
     "output_type": "execute_result"
    }
   ],
   "source": [
    "# Measure the qubits and transfer the values measured to the classical register\n",
    "qc.measure(qReg_a, cReg)\n",
    "\n",
    "# Display the circuit created so far\n",
    "qc.draw()"
   ]
  },
  {
   "cell_type": "markdown",
   "id": "c287e06d-4ca1-44cd-8461-09e41224368f",
   "metadata": {},
   "source": [
    "## Running the circuit on the simulator"
   ]
  },
  {
   "cell_type": "code",
   "execution_count": 14,
   "id": "a65f41a3-b50a-476d-9ed6-dba5f6870129",
   "metadata": {},
   "outputs": [
    {
     "name": "stderr",
     "output_type": "stream",
     "text": [
      "<frozen importlib._bootstrap>:219: RuntimeWarning: scipy._lib.messagestream.MessageStream size changed, may indicate binary incompatibility. Expected 56 from C header, got 64 from PyObject\n"
     ]
    },
    {
     "data": {
      "text/plain": [
       "{'11111': 1024}"
      ]
     },
     "execution_count": 14,
     "metadata": {},
     "output_type": "execute_result"
    }
   ],
   "source": [
    "# Setting the quantum  simulator to be 'qasm_simulator'\n",
    "backend = Aer.get_backend('qasm_simulator')\n",
    "\n",
    "# Assemble our circuit on the simulator and execute for about 1024 times\n",
    "job = execute(qc, backend, shots=1024) \n",
    "\n",
    "# Extract the sumulation result as a dictionary\n",
    "result = job.result()\n",
    "counts = result.get_counts(qc)\n",
    "counts"
   ]
  },
  {
   "cell_type": "markdown",
   "id": "fa5b511b-0765-4a62-b03e-6e7ee6348206",
   "metadata": {},
   "source": [
    "## Inference\n",
    "\n",
    "According to our algorithm, if the leading bit of the binary addition is **'1'**, the first number is the largest. If the leading bit of the binary addition is **'0'**, the second number is the largest."
   ]
  },
  {
   "cell_type": "code",
   "execution_count": 15,
   "id": "a3f75946-0a9a-4433-96f2-db1f6f3d1e35",
   "metadata": {},
   "outputs": [
    {
     "name": "stdout",
     "output_type": "stream",
     "text": [
      "2 is the larger than -3\n"
     ]
    }
   ],
   "source": [
    "# Extracting out the leading bit\n",
    "l_bit = list(counts.keys())[0][0]\n",
    "    \n",
    "if l_bit=='1':\n",
    "    print(f'{int_1} is the larger than {int_2}')\n",
    "else :\n",
    "    print(f'{int_2} is the larger than {int_1}')"
   ]
  },
  {
   "cell_type": "markdown",
   "id": "2430f9d0-cbf0-45eb-a9f8-91526c28f716",
   "metadata": {},
   "source": [
    "## Arranging all the blocks together to a function"
   ]
  },
  {
   "cell_type": "code",
   "execution_count": 16,
   "id": "4e0b98e6-3113-4b01-999a-56b9855b3883",
   "metadata": {},
   "outputs": [],
   "source": [
    "import numpy as np\n",
    "from qiskit import QuantumCircuit, Aer, execute, QuantumRegister, ClassicalRegister\n",
    "from qiskit.circuit.library import QFT\n",
    "\n",
    "def controlled_rotations(qc, qra, qrb, k) :\n",
    "    '''\n",
    "    This function performs controlled rotations by connecting kth qubit of the first quantum regsiter \n",
    "    to the first k qubits of the second register, by means of a controlled-phase gate, which will change the base phase\n",
    "    to multiples of pi/2 based on the iteration\n",
    "    \n",
    "    args :\n",
    "    \n",
    "    qc -> QuantumCircuit object\n",
    "    qra -> QuantumRegister Object\n",
    "    qrb -> QuantumRegister Object\n",
    "    k  -> int\n",
    "    \n",
    "    return :\n",
    "    \n",
    "        None\n",
    "    '''\n",
    "    for i in range(0, k+1):\n",
    "        # change the base phase by ith multiple of pi/2 if the control qubit from regB is 1\n",
    "        qc.cp(np.pi/2**i, qrb[k-i], qra[k]) \n",
    "        \n",
    "    \n",
    "\n",
    "def twos_complement(number, num_bits):\n",
    "    '''\n",
    "    \n",
    "    This function returns the two's complement binary string representation of the first input argument.\n",
    "    For positive integers, it would return the direct binary representation\n",
    "    \n",
    "    args :\n",
    "    \n",
    "    number(int) -> This is the input integer for which the binary representation has to be found\n",
    "    \n",
    "    num_bits(int) -> Number of bits the return binary should be in\n",
    "    \n",
    "    return:\n",
    "    \n",
    "    binary(string) -> BInary equivalent of the input number of length num_bits\n",
    "    '''\n",
    "    \n",
    "    if number >= 0: # Checks if the number is positive\n",
    "        binary = format(number, f'0{num_bits}b')\n",
    "    else: \n",
    "        # Compute the absolute value of num and subtract it from 2^bits\n",
    "        abs_num = abs(number)\n",
    "        complement = (1 << num_bits) - abs_num\n",
    "        binary = format(complement, f'0{num_bits}b')\n",
    "\n",
    "    return binary\n",
    "\n",
    "\n",
    "def find_the_largest_number(number_1, number_2):\n",
    "    \n",
    "    '''\n",
    "    \n",
    "    This function uses quantum algorithm such as Quantum Fourier Transform (QFT) to perform binary addition\n",
    "    and determines the largest of the two integer inputs provided in the argument\n",
    "    \n",
    "    args :\n",
    "    \n",
    "        number_1(int) -> This is one among the two integers, for which the largest one should be found \n",
    "        number_2(int) -> This is one among the two integers, for which the largest one should be found\n",
    "        \n",
    "    return :\n",
    "        \n",
    "        number_1 or number_2 (int)\n",
    "    '''\n",
    "    \n",
    "    # Determine the number of qubits/bits needed for the register\n",
    "    n = max(len(bin(number_1)), len(bin(number_2)))\n",
    "    \n",
    "    \n",
    "    # Finding the two's complement binary for the two input integers    \n",
    "    bin_num1 = twos_complement((-1)*number_1, n)\n",
    "    bin_num2 = twos_complement(number_2, n)\n",
    "\n",
    "    \n",
    "    # Declare two quantum registers to hold the input data\n",
    "    qReg_a = QuantumRegister(n, 'a')\n",
    "    qReg_b = QuantumRegister(n, 'b')\n",
    "    \n",
    "    # Declare a quantum register to hold the output data\n",
    "    cReg = ClassicalRegister(n, 'c')\n",
    "    \n",
    "    # Defining a quantum circuit with the registers created\n",
    "    qc = QuantumCircuit(qReg_a, qReg_b, cReg)\n",
    "    \n",
    "    # Introducing a graphical bariier in the circuit to mark the start of computation\n",
    "    qc.barrier()\n",
    "\n",
    "    # Now let us encode the input bits into the corresponding register\n",
    "    for index in range(n):\n",
    "        \n",
    "        rev_index = n - index - 1 # Iterating the index backwards\n",
    "    \n",
    "        # Place an X gate in the corresponding (n-index)th qubit if the corresponding nth bit is 1 \n",
    "        if (bin_num1[index]=='1'):\n",
    "            qc.x(qReg_a[rev_index])\n",
    "        \n",
    "        if (bin_num2[index]=='1'):\n",
    "            qc.x(qReg_b[rev_index])\n",
    "    \n",
    "    \n",
    "    # Adding a QFT block across all the qubits of the first quantum register\n",
    "    qc.append(QFT(n, do_swaps=False), [i for i in range(n)])\n",
    "    \n",
    "    for i in range(n):\n",
    "        # This function will add C-Phase gate on all of the qubits of qReg_a    \n",
    "        controlled_rotations(qc, qReg_a, qReg_b, n-i-1 )\n",
    "\n",
    "    # Adding an inverse QFT block across all the qubits of the first quantum register        \n",
    "    qc.append(QFT(n, do_swaps=False).inverse(), [i for i in range(n)])\n",
    "\n",
    "    # Adding a graphical barrier to show the end of circuit manipulation\n",
    "    qc.barrier()\n",
    "    \n",
    "    # Measure the qubits and run the circuit on the simulator\n",
    "    qc.measure(qReg_a, cReg)\n",
    "\n",
    "    # Dispaly the circuit created \n",
    "    print(qc.draw())\n",
    "    \n",
    "    # Setting the quantum  simulator to be 'qasm_simulator'\n",
    "    backend = Aer.get_backend('qasm_simulator')\n",
    "\n",
    "    # Assemble our circuit on the simulator and execute for about 1024 times\n",
    "    job = execute(qc, backend, shots=1024) \n",
    "\n",
    "    # Extract the sumulation result as a dictionary\n",
    "    result = job.result()\n",
    "    counts = result.get_counts(qc)\n",
    "    \n",
    "    # Extracting out the leading bit\n",
    "    l_bit = list(counts.keys())[0][0]\n",
    "    \n",
    "    if l_bit=='1':\n",
    "        return number_1\n",
    "    else :\n",
    "        return number_2"
   ]
  },
  {
   "cell_type": "markdown",
   "id": "6ca503b0-9951-4076-9ef9-35a69ee64c3b",
   "metadata": {},
   "source": [
    "## Testing out the function"
   ]
  },
  {
   "cell_type": "code",
   "execution_count": 17,
   "id": "14d31082-0a65-4f4b-9d2f-311b3bd1f179",
   "metadata": {},
   "outputs": [
    {
     "name": "stdout",
     "output_type": "stream",
     "text": [
      "Figure(1591.74x1649.48)\n",
      "9\n"
     ]
    }
   ],
   "source": [
    "print(find_the_largest_number(-5,9))"
   ]
  },
  {
   "cell_type": "code",
   "execution_count": 18,
   "id": "0c3dc03b-f3d1-4d34-bd06-b6c9cae773ae",
   "metadata": {},
   "outputs": [
    {
     "name": "stdout",
     "output_type": "stream",
     "text": [
      "Figure(1604.87x13448.7)\n",
      "989\n"
     ]
    }
   ],
   "source": [
    "print(find_the_largest_number(-785,989))"
   ]
  },
  {
   "cell_type": "code",
   "execution_count": 19,
   "id": "5129cfe4-eafe-4150-8968-242c67e13b09",
   "metadata": {},
   "outputs": [
    {
     "name": "stdout",
     "output_type": "stream",
     "text": [
      "Figure(1605.01x100739)\n",
      "8705684\n"
     ]
    }
   ],
   "source": [
    "print(find_the_largest_number(8705684,87599))"
   ]
  },
  {
   "cell_type": "code",
   "execution_count": 20,
   "id": "309d4d83-8cbb-4618-9793-6de5033d7d2d",
   "metadata": {},
   "outputs": [
    {
     "name": "stdout",
     "output_type": "stream",
     "text": [
      "Figure(1605.01x78223.9)\n",
      "8\n"
     ]
    }
   ],
   "source": [
    "print(find_the_largest_number(-1875875,8))"
   ]
  },
  {
   "cell_type": "markdown",
   "id": "c7138f7f-3af1-44b0-97d5-196bae44a7f8",
   "metadata": {},
   "source": [
    "## Reflection\n",
    "\n",
    "Eventhough, this algorithm seems to work well for all sorts of inputs. This cannot be used in a real quantum computer. Because, this algorithm utilizes the number of qubits directly proportional to the size of the inputs used. Till today, the quantum computer with the highest number of qubits made, is ***IBM Osprey***, which is a 433-qubit processor. If our input exceeds using 433 qubits, it becomes practically unusable in any of the quantum computers built so far. Moreover, the time-complexity of this algorithm is **O(n)**, which should not be the case for any real-use case algorithms.\n",
    "\n",
    "I am thinking of a more efficient algorithm to do the same task. If I succeed in implementing such a algo within the deadline for task submission. I will update the files in the same repository.\n"
   ]
  }
 ],
 "metadata": {
  "kernelspec": {
   "display_name": "Python 3 (ipykernel)",
   "language": "python",
   "name": "python3"
  },
  "language_info": {
   "codemirror_mode": {
    "name": "ipython",
    "version": 3
   },
   "file_extension": ".py",
   "mimetype": "text/x-python",
   "name": "python",
   "nbconvert_exporter": "python",
   "pygments_lexer": "ipython3",
   "version": "3.8.15"
  },
  "widgets": {
   "application/vnd.jupyter.widget-state+json": {
    "state": {},
    "version_major": 2,
    "version_minor": 0
   }
  }
 },
 "nbformat": 4,
 "nbformat_minor": 5
}
